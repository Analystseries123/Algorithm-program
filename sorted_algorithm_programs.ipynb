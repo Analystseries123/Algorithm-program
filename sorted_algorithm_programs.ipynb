{
  "nbformat": 4,
  "nbformat_minor": 0,
  "metadata": {
    "colab": {
      "provenance": []
    },
    "kernelspec": {
      "name": "python3",
      "display_name": "Python 3"
    },
    "language_info": {
      "name": "python"
    }
  },
  "cells": [
    {
      "cell_type": "markdown",
      "source": [
        " **bubble sort algorithm.**\n",
        "# The primary advantage of the bubble sort is that it is popular and easy to implement.\n",
        "# The main disadvantage of the bubble sort is the fact that it does not deal well with a list containing a huge number of items.\n",
        "# In the bubble sort, elements are swapped in place without using additional temporary storage.\n"
      ],
      "metadata": {
        "id": "kSsLQk3AnSWU"
      }
    },
    {
      "cell_type": "code",
      "execution_count": null,
      "metadata": {
        "colab": {
          "base_uri": "https://localhost:8080/"
        },
        "id": "47lpAcfHmzUT",
        "outputId": "b9df402d-fe30-42ad-93ee-d62162d9ab65"
      },
      "outputs": [
        {
          "output_type": "stream",
          "name": "stdout",
          "text": [
            "array('i', [3, 4, 6, 8])\n"
          ]
        }
      ],
      "source": [
        "import array\n",
        "from array import *\n",
        "a=array(\"i\",[8,6,4,3])\n",
        "l=len(a)\n",
        "for x in range(l):\n",
        "    for y in range(l-x-1):\n",
        "        if a[y]>a[y+1]:\n",
        "            \ta[y],a[y+1]=a[y+1],a[y]\n",
        "print(a)\n"
      ]
    },
    {
      "cell_type": "markdown",
      "source": [
        "# insertion sort\n",
        "# The main advantage of the insertion sort is its simplicity.\n",
        "# The disadvantage of the insertion sort is that it does not perform as well as other, better sorting algorithms.\n",
        "# It also exhibits a good performance when dealing with a small list.\n"
      ],
      "metadata": {
        "id": "AIk4Vbh7n3b-"
      }
    },
    {
      "cell_type": "code",
      "source": [
        "import array\n",
        "from array import *\n",
        "a=array(\"i\",[6,3,2,7,1,4])\n",
        "n=len(a)\n",
        "for i in range(n):\n",
        "    j=i\n",
        "    while j>0 and a[j-1]>a[j]:\n",
        "        a[j-1],a[j] = a[j],a[j-1]\n",
        "        j=j-1\n",
        "print(a)"
      ],
      "metadata": {
        "colab": {
          "base_uri": "https://localhost:8080/"
        },
        "id": "S-8SpVbUnHcE",
        "outputId": "4a9c1bc5-0414-42bf-a4bb-2fc33be06fba"
      },
      "execution_count": null,
      "outputs": [
        {
          "output_type": "stream",
          "name": "stdout",
          "text": [
            "array('i', [1, 2, 3, 4, 6, 7])\n"
          ]
        }
      ]
    },
    {
      "cell_type": "markdown",
      "source": [
        "# selection sort\n",
        "#The main advantage of the selection sort is that it performs well on a small list.\n",
        "#The primary disadvantage of the selection sort is its poor efficiency when dealing with a huge list of items."
      ],
      "metadata": {
        "id": "ryDXJXmooUDj"
      }
    },
    {
      "cell_type": "code",
      "source": [
        "import numpy as np\n",
        "import array\n",
        "from array import *\n",
        "def selection_sort(array):\n",
        "    n = len(array)\n",
        "    for i in range(n):\n",
        "        cm = i\n",
        "        for j in range(i+1,n):\n",
        "            if array[j]<array[cm]:\n",
        "                cm = j\n",
        "                array[i],array[cm] =  array[cm],array[i]\n",
        "    print(\"sorted array:\",array)\n",
        "\n",
        "ary = np.array([5,2,6,7,9,4,1,3])\n",
        "selection_sort(ary)"
      ],
      "metadata": {
        "colab": {
          "base_uri": "https://localhost:8080/"
        },
        "id": "sjR2f0A1oR1r",
        "outputId": "3ade264d-89b7-4283-a919-6da9fa4f0679"
      },
      "execution_count": null,
      "outputs": [
        {
          "output_type": "stream",
          "name": "stdout",
          "text": [
            "sorted array: [3 1 4 2 5 6 7 9]\n"
          ]
        }
      ]
    },
    {
      "cell_type": "markdown",
      "source": [
        "# Divide and conquer algorithm.\n",
        "#Advantages\n",
        "#Efficiency: Divide and conquer algorithms typically have a time complexity of O(n log n),\n",
        "#which is more efficient than many other algorithms for large datasets.\n",
        "#Simplicity: Divide and conquer algorithms are often easy to understand and implement.\n",
        "#Parallelizability: Divide and conquer algorithms can be easily parallelized, as each subproblem can be solved independently.\n",
        "#Cache-friendliness: Divide and conquer algorithms tend to have good cache performance, as they access data in a predictable pattern.\n",
        "#Disadvantages\n",
        "#Recursion overhead: Divide and conquer algorithms use recursion, which can lead to significant overhead in terms of stack space and function calls.\n",
        "#Not suitable for all problems: Divide and conquer algorithms are not suitable for all types of problems.\n",
        "#They are most effective for problems that can be recursively divided into smaller subproblems.\n",
        "#Limited memory efficiency: Divide and conquer algorithms can require a significant amount of memory, as they create multiple copies of the input data.\n",
        "#Difficult to analyze: The time and space complexity of divide and conquer algorithms can be difficult to analyze, especially for complex problems."
      ],
      "metadata": {
        "id": "80OdHpCGqUT1"
      }
    },
    {
      "cell_type": "code",
      "source": [
        "def divide_array(array):\n",
        "    midpoint = len(array)//2\n",
        "    left_half = array[:midpoint]\n",
        "    right_half = array[midpoint:]\n",
        "    return left_half,right_half\n",
        "def iterate_divide(array):\n",
        "    divided_array = [array]\n",
        "    while any(len(subarray)>1 for subarray in divided_array):\n",
        "        new_divided_array = []\n",
        "        for subarray in divided_array:\n",
        "            if len(subarray) > 1:\n",
        "                left_half ,right_half = divide_array(subarray)\n",
        "                new_divided_array.append(left_half)\n",
        "                new_divided_array.append(right_half)\n",
        "            else:\n",
        "                new_divided_array.append(subarray)\n",
        "        divided_array = new_divided_array\n",
        "    return divided_array\n",
        "\n",
        "array =[1,2,3,4,5,6,7]\n",
        "result = iterate_divide(array)\n",
        "join_array = []\n",
        "for subarray in result:\n",
        "    join_array.extend(subarray)\n",
        "print(result)\n",
        "print(join_array)\n"
      ],
      "metadata": {
        "colab": {
          "base_uri": "https://localhost:8080/"
        },
        "id": "-Udszw57p9nT",
        "outputId": "64f8c89f-92ba-4c77-bd86-4622a5c74eba"
      },
      "execution_count": null,
      "outputs": [
        {
          "output_type": "stream",
          "name": "stdout",
          "text": [
            "[[1], [2], [3], [4], [5], [6], [7]]\n",
            "[1, 2, 3, 4, 5, 6, 7]\n"
          ]
        }
      ]
    },
    {
      "cell_type": "markdown",
      "source": [
        "# consider five tuples sort the in accending order useing bubble sort as per the first element.\n"
      ],
      "metadata": {
        "id": "sBLkUF5yqyCU"
      }
    },
    {
      "cell_type": "code",
      "source": [
        "def bubble_sort(tuples_list):\n",
        "    n = len(tuples_list)\n",
        "    for i in range(n-1):\n",
        "        for j in range(0,n-i-1):\n",
        "            if tuples_list[j][0] >tuples_list[j+1][0]:\n",
        "                tuples_list[j],tuples_list[j+1] = tuples_list[j+1],tuples_list[j]\n",
        "tuples_list = [(5,\"A\"),(0,\"B\"),(2,\"c\"),(1,\"T\"),(6,\"u\")]\n",
        "bubble_sort(tuples_list)\n",
        "print(\"sorted tuples(acending order based on  the first element):\")\n",
        "for tup in tuples_list:\n",
        "  print(tup)"
      ],
      "metadata": {
        "colab": {
          "base_uri": "https://localhost:8080/"
        },
        "id": "TGtCv4w1qoXV",
        "outputId": "ff4b6723-bf47-4a14-c093-3aa93bc37e3a"
      },
      "execution_count": null,
      "outputs": [
        {
          "output_type": "stream",
          "name": "stdout",
          "text": [
            "sorted tuples(acending order based on  the first element):\n",
            "(0, 'B')\n",
            "(1, 'T')\n",
            "(2, 'c')\n",
            "(5, 'A')\n",
            "(6, 'u')\n"
          ]
        }
      ]
    },
    {
      "cell_type": "markdown",
      "source": [
        "# write a python program to create reverse bubble sort that can be applied on arrays."
      ],
      "metadata": {
        "id": "dwntKsMPrQuL"
      }
    },
    {
      "cell_type": "code",
      "source": [
        "import array\n",
        "from array import *\n",
        "a = array(\"i\",[20,56,42,52,36,1,8])\n",
        "n=len(a)\n",
        "for i in range(n-1, 0, -1):\n",
        "    for j in range(n-1, n-i-1, -1):\n",
        "        if a[j-1]<a[j]:\n",
        "            a[j-1],a[j] = a[j],a[j-1]\n",
        "\n",
        "print(a)\n"
      ],
      "metadata": {
        "colab": {
          "base_uri": "https://localhost:8080/"
        },
        "id": "lAVN0TBwrFiM",
        "outputId": "b662ede1-da4d-4f77-c424-75d8fde73a71"
      },
      "execution_count": null,
      "outputs": [
        {
          "output_type": "stream",
          "name": "stdout",
          "text": [
            "array('i', [56, 52, 42, 36, 20, 8, 1])\n"
          ]
        }
      ]
    },
    {
      "cell_type": "code",
      "source": [
        "for z in range(100,0,-5):\n",
        "    print(z)"
      ],
      "metadata": {
        "colab": {
          "base_uri": "https://localhost:8080/"
        },
        "id": "zcoYmCoPrYDq",
        "outputId": "6c97171d-d2ed-46ae-f51d-44e356f20c06"
      },
      "execution_count": null,
      "outputs": [
        {
          "output_type": "stream",
          "name": "stdout",
          "text": [
            "100\n",
            "95\n",
            "90\n",
            "85\n",
            "80\n",
            "75\n",
            "70\n",
            "65\n",
            "60\n",
            "55\n",
            "50\n",
            "45\n",
            "40\n",
            "35\n",
            "30\n",
            "25\n",
            "20\n",
            "15\n",
            "10\n",
            "5\n"
          ]
        }
      ]
    },
    {
      "cell_type": "markdown",
      "source": [
        "Binary search algorithm\n"
      ],
      "metadata": {
        "id": "ALn2VFr9TVy0"
      }
    },
    {
      "cell_type": "code",
      "source": [
        "A = [32,56,68,72,84,99,112,124]\n",
        "start = 0\n",
        "end = len(A)-1\n",
        "target= 112\n",
        "while start<=end:\n",
        "  mid = (start+end)//2\n",
        "  if A[mid]==target:\n",
        "    print(mid)\n",
        "    break\n",
        "  elif A[mid]<=target:\n",
        "    start = mid+1\n",
        "  else:\n",
        "    end = mid-1\n",
        "else:\n",
        "  print(\"target not found in the list\")\n"
      ],
      "metadata": {
        "colab": {
          "base_uri": "https://localhost:8080/"
        },
        "id": "-dy0X8GSTfrs",
        "outputId": "6f2fd759-2165-4547-d493-b791608332bf"
      },
      "execution_count": null,
      "outputs": [
        {
          "output_type": "stream",
          "name": "stdout",
          "text": [
            "6\n"
          ]
        }
      ]
    },
    {
      "cell_type": "markdown",
      "source": [
        "Ques.1 write a python program to search the smallest element in the array"
      ],
      "metadata": {
        "id": "etXWPj3rYjHJ"
      }
    },
    {
      "cell_type": "code",
      "source": [
        "import array\n",
        "from array import *\n",
        "a = array(\"i\",[2,8,9,0,3,5])\n",
        "smallest = a[0]\n",
        "for n in a[1:]:\n",
        "  if n < smallest:\n",
        "    smallest = n\n",
        "\n",
        "print(\"the smallest element in the array:\",smallest)"
      ],
      "metadata": {
        "colab": {
          "base_uri": "https://localhost:8080/"
        },
        "id": "F_WAiOONZEAm",
        "outputId": "874bc338-cba2-4b55-a725-df057edafd92"
      },
      "execution_count": null,
      "outputs": [
        {
          "output_type": "stream",
          "name": "stdout",
          "text": [
            "the smallest element in the array: 0\n"
          ]
        }
      ]
    },
    {
      "cell_type": "code",
      "source": [],
      "metadata": {
        "id": "PKHBPjHqc1hO"
      },
      "execution_count": null,
      "outputs": []
    }
  ]
}